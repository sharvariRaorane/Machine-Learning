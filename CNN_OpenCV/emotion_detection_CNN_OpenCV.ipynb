{
  "nbformat": 4,
  "nbformat_minor": 0,
  "metadata": {
    "colab": {
      "provenance": []
    },
    "kernelspec": {
      "name": "python3",
      "display_name": "Python 3"
    },
    "language_info": {
      "name": "python"
    }
  },
  "cells": [
    {
      "cell_type": "markdown",
      "source": [
        "Emotion detection using OpenCV and CCN model"
      ],
      "metadata": {
        "id": "wlCEcAmgWSLj"
      }
    },
    {
      "cell_type": "markdown",
      "source": [
        "Mounting Google drive"
      ],
      "metadata": {
        "id": "ZNTicBTnYf3U"
      }
    },
    {
      "cell_type": "code",
      "source": [
        "from google.colab import drive\n",
        "drive.mount('/content/drive')"
      ],
      "metadata": {
        "colab": {
          "base_uri": "https://localhost:8080/"
        },
        "id": "1S-dpzCiYZsy",
        "outputId": "a4f53464-edd2-48bd-d0f4-868314657c78"
      },
      "execution_count": 6,
      "outputs": [
        {
          "output_type": "stream",
          "name": "stdout",
          "text": [
            "Drive already mounted at /content/drive; to attempt to forcibly remount, call drive.mount(\"/content/drive\", force_remount=True).\n"
          ]
        }
      ]
    },
    {
      "cell_type": "markdown",
      "source": [
        "Importing libraries"
      ],
      "metadata": {
        "id": "aWZDjATuWZED"
      }
    },
    {
      "cell_type": "code",
      "source": [
        "import cv2\n",
        "import numpy as np\n",
        "import matplotlib.pyplot as plt\n",
        "from keras.models import Sequential\n",
        "from keras.layers import Conv2D, MaxPooling2D, Dense, Dropout, Flatten\n",
        "from keras.optimizers.legacy import Adam\n",
        "from keras.preprocessing.image import ImageDataGenerator\n",
        "from keras.models import model_from_json\n",
        "from sklearn.metrics import confusion_matrix, classification_report,ConfusionMatrixDisplay"
      ],
      "metadata": {
        "id": "e3Vc83vtWUr0"
      },
      "execution_count": 7,
      "outputs": []
    },
    {
      "cell_type": "markdown",
      "source": [
        "Data Preprocessing\n",
        "We will be rescaling imagaes for fater model training"
      ],
      "metadata": {
        "id": "rslEdbvcWmtt"
      }
    },
    {
      "cell_type": "code",
      "source": [
        "train_data_gen = ImageDataGenerator(rescale=1./255)\n",
        "validation_data_gen = ImageDataGenerator(rescale=1./255)"
      ],
      "metadata": {
        "id": "7st3NiP4W8lf"
      },
      "execution_count": 8,
      "outputs": []
    },
    {
      "cell_type": "markdown",
      "source": [
        "Loading training data"
      ],
      "metadata": {
        "id": "P2Bu_oxG2N6K"
      }
    },
    {
      "cell_type": "code",
      "source": [
        "# Preprocess all train images\n",
        "train_generator = train_data_gen.flow_from_directory(\n",
        "        '/content/drive/MyDrive/data/train_1',\n",
        "        target_size=(48, 48),\n",
        "        batch_size=64,\n",
        "        color_mode=\"grayscale\",\n",
        "        class_mode='categorical')"
      ],
      "metadata": {
        "colab": {
          "base_uri": "https://localhost:8080/"
        },
        "id": "OqNHkrHWbXxS",
        "outputId": "eb01ee96-07e3-4ea3-b9d2-c21952548e7d"
      },
      "execution_count": 9,
      "outputs": [
        {
          "output_type": "stream",
          "name": "stdout",
          "text": [
            "Found 496 images belonging to 7 classes.\n"
          ]
        }
      ]
    },
    {
      "cell_type": "markdown",
      "source": [
        "Loading testing data"
      ],
      "metadata": {
        "id": "4nUAmsZ32sgq"
      }
    },
    {
      "cell_type": "code",
      "source": [
        "# Preprocess all test images\n",
        "validation_generator = validation_data_gen.flow_from_directory(\n",
        "        '/content/drive/MyDrive/data/test_1',\n",
        "        target_size=(48, 48),\n",
        "        batch_size=64,\n",
        "        color_mode=\"grayscale\",\n",
        "        class_mode='categorical')"
      ],
      "metadata": {
        "colab": {
          "base_uri": "https://localhost:8080/"
        },
        "id": "JNiQqm5P2uzT",
        "outputId": "d37df515-e514-4c9e-a6a2-1186318fdb12"
      },
      "execution_count": 10,
      "outputs": [
        {
          "output_type": "stream",
          "name": "stdout",
          "text": [
            "Found 207 images belonging to 7 classes.\n"
          ]
        }
      ]
    },
    {
      "cell_type": "markdown",
      "source": [
        "Creating model"
      ],
      "metadata": {
        "id": "bnVe5kLl29am"
      }
    },
    {
      "cell_type": "code",
      "source": [
        "emotion_model = Sequential()"
      ],
      "metadata": {
        "id": "dQ4P8AJV3BDr"
      },
      "execution_count": 11,
      "outputs": []
    },
    {
      "cell_type": "markdown",
      "source": [
        "Adding layers to model"
      ],
      "metadata": {
        "id": "zD0QfJd63DkZ"
      }
    },
    {
      "cell_type": "code",
      "source": [
        "emotion_model.add(Conv2D(32, kernel_size=(3, 3), activation='relu', input_shape=(48, 48, 1)))\n",
        "emotion_model.add(Conv2D(64, kernel_size=(3, 3), activation='relu'))\n",
        "emotion_model.add(MaxPooling2D(pool_size=(2, 2)))\n",
        "emotion_model.add(Dropout(0.25))\n",
        "\n",
        "emotion_model.add(Conv2D(128, kernel_size=(3, 3), activation='relu'))\n",
        "emotion_model.add(MaxPooling2D(pool_size=(2, 2)))\n",
        "emotion_model.add(Conv2D(128, kernel_size=(3, 3), activation='relu'))\n",
        "emotion_model.add(MaxPooling2D(pool_size=(2, 2)))\n",
        "emotion_model.add(Dropout(0.25))\n",
        "\n",
        "emotion_model.add(Flatten())\n",
        "emotion_model.add(Dense(100, activation='relu'))\n",
        "emotion_model.add(Dropout(0.5))\n",
        "emotion_model.add(Dense(7, activation='softmax'))"
      ],
      "metadata": {
        "id": "CHQMCJ2Y3G_v"
      },
      "execution_count": 12,
      "outputs": []
    },
    {
      "cell_type": "markdown",
      "source": [
        "compiling model"
      ],
      "metadata": {
        "id": "aI_z_iY03LeV"
      }
    },
    {
      "cell_type": "code",
      "source": [
        "emotion_model.compile(loss='categorical_crossentropy', optimizer=Adam(learning_rate=0.0001, decay=1e-6), metrics=['accuracy'])"
      ],
      "metadata": {
        "id": "x5a_BeLx3NXN"
      },
      "execution_count": 13,
      "outputs": []
    },
    {
      "cell_type": "markdown",
      "source": [
        "Training model"
      ],
      "metadata": {
        "id": "aB4aG2gd4OVl"
      }
    },
    {
      "cell_type": "code",
      "source": [
        "emotion_model_info = emotion_model.fit(\n",
        "         train_generator,\n",
        "        epochs=50,\n",
        "        validation_data=validation_generator,\n",
        "        validation_steps=50)"
      ],
      "metadata": {
        "colab": {
          "base_uri": "https://localhost:8080/"
        },
        "id": "iInKvNko4SXN",
        "outputId": "796db811-6296-4d7c-ef1c-fae99ca51ff5"
      },
      "execution_count": 14,
      "outputs": [
        {
          "output_type": "stream",
          "name": "stdout",
          "text": [
            "Epoch 1/50\n",
            "8/8 [==============================] - ETA: 0s - loss: 1.9484 - accuracy: 0.1593"
          ]
        },
        {
          "output_type": "stream",
          "name": "stderr",
          "text": [
            "WARNING:tensorflow:Your input ran out of data; interrupting training. Make sure that your dataset or generator can generate at least `steps_per_epoch * epochs` batches (in this case, 50 batches). You may need to use the repeat() function when building your dataset.\n"
          ]
        },
        {
          "output_type": "stream",
          "name": "stdout",
          "text": [
            "\b\b\b\b\b\b\b\b\b\b\b\b\b\b\b\b\b\b\b\b\b\b\b\b\b\b\b\b\b\b\b\b\b\b\b\b\b\b\b\b\b\b\b\b\b\b\b\b\b\b\b\b\b\b\b\b\b\b\b\b\b\b\b\b\b\b\b\b\b\b\b\b\b\b\b\b\b\b\b\b\r8/8 [==============================] - 9s 1s/step - loss: 1.9484 - accuracy: 0.1593 - val_loss: 1.9475 - val_accuracy: 0.1304\n",
            "Epoch 2/50\n",
            "8/8 [==============================] - 8s 882ms/step - loss: 1.9464 - accuracy: 0.1492\n",
            "Epoch 3/50\n",
            "8/8 [==============================] - 8s 930ms/step - loss: 1.9469 - accuracy: 0.1492\n",
            "Epoch 4/50\n",
            "8/8 [==============================] - 7s 744ms/step - loss: 1.9467 - accuracy: 0.1411\n",
            "Epoch 5/50\n",
            "8/8 [==============================] - 7s 933ms/step - loss: 1.9422 - accuracy: 0.1431\n",
            "Epoch 6/50\n",
            "8/8 [==============================] - 6s 743ms/step - loss: 1.9429 - accuracy: 0.1411\n",
            "Epoch 7/50\n",
            "8/8 [==============================] - 8s 965ms/step - loss: 1.9412 - accuracy: 0.1472\n",
            "Epoch 8/50\n",
            "8/8 [==============================] - 7s 843ms/step - loss: 1.9399 - accuracy: 0.1492\n",
            "Epoch 9/50\n",
            "8/8 [==============================] - 7s 719ms/step - loss: 1.9414 - accuracy: 0.1673\n",
            "Epoch 10/50\n",
            "8/8 [==============================] - 8s 969ms/step - loss: 1.9472 - accuracy: 0.1633\n",
            "Epoch 11/50\n",
            "8/8 [==============================] - 6s 750ms/step - loss: 1.9454 - accuracy: 0.1391\n",
            "Epoch 12/50\n",
            "8/8 [==============================] - 7s 731ms/step - loss: 1.9464 - accuracy: 0.1694\n",
            "Epoch 13/50\n",
            "8/8 [==============================] - 8s 986ms/step - loss: 1.9480 - accuracy: 0.1411\n",
            "Epoch 14/50\n",
            "8/8 [==============================] - 6s 710ms/step - loss: 1.9425 - accuracy: 0.1573\n",
            "Epoch 15/50\n",
            "8/8 [==============================] - 8s 995ms/step - loss: 1.9439 - accuracy: 0.1714\n",
            "Epoch 16/50\n",
            "8/8 [==============================] - 7s 802ms/step - loss: 1.9390 - accuracy: 0.1673\n",
            "Epoch 17/50\n",
            "8/8 [==============================] - 7s 767ms/step - loss: 1.9408 - accuracy: 0.1411\n",
            "Epoch 18/50\n",
            "8/8 [==============================] - 8s 963ms/step - loss: 1.9399 - accuracy: 0.1673\n",
            "Epoch 19/50\n",
            "8/8 [==============================] - 6s 732ms/step - loss: 1.9370 - accuracy: 0.1734\n",
            "Epoch 20/50\n",
            "8/8 [==============================] - 8s 965ms/step - loss: 1.9364 - accuracy: 0.1734\n",
            "Epoch 21/50\n",
            "8/8 [==============================] - 7s 795ms/step - loss: 1.9393 - accuracy: 0.1754\n",
            "Epoch 22/50\n",
            "8/8 [==============================] - 7s 746ms/step - loss: 1.9349 - accuracy: 0.1875\n",
            "Epoch 23/50\n",
            "8/8 [==============================] - 7s 797ms/step - loss: 1.9375 - accuracy: 0.1694\n",
            "Epoch 24/50\n",
            "8/8 [==============================] - 6s 740ms/step - loss: 1.9338 - accuracy: 0.1653\n",
            "Epoch 25/50\n",
            "8/8 [==============================] - 6s 733ms/step - loss: 1.9364 - accuracy: 0.1774\n",
            "Epoch 26/50\n",
            "8/8 [==============================] - 8s 848ms/step - loss: 1.9269 - accuracy: 0.1855\n",
            "Epoch 27/50\n",
            "8/8 [==============================] - 6s 734ms/step - loss: 1.9266 - accuracy: 0.1835\n",
            "Epoch 28/50\n",
            "8/8 [==============================] - 6s 727ms/step - loss: 1.9198 - accuracy: 0.1956\n",
            "Epoch 29/50\n",
            "8/8 [==============================] - 6s 706ms/step - loss: 1.9114 - accuracy: 0.2097\n",
            "Epoch 30/50\n",
            "8/8 [==============================] - 8s 956ms/step - loss: 1.9107 - accuracy: 0.1935\n",
            "Epoch 31/50\n",
            "8/8 [==============================] - 6s 717ms/step - loss: 1.8984 - accuracy: 0.2419\n",
            "Epoch 32/50\n",
            "8/8 [==============================] - 7s 888ms/step - loss: 1.8931 - accuracy: 0.2298\n",
            "Epoch 33/50\n",
            "8/8 [==============================] - 7s 729ms/step - loss: 1.8816 - accuracy: 0.2137\n",
            "Epoch 34/50\n",
            "8/8 [==============================] - 8s 970ms/step - loss: 1.8575 - accuracy: 0.2258\n",
            "Epoch 35/50\n",
            "8/8 [==============================] - 7s 793ms/step - loss: 1.8553 - accuracy: 0.2641\n",
            "Epoch 36/50\n",
            "8/8 [==============================] - 7s 756ms/step - loss: 1.8319 - accuracy: 0.2984\n",
            "Epoch 37/50\n",
            "8/8 [==============================] - 6s 731ms/step - loss: 1.8740 - accuracy: 0.2278\n",
            "Epoch 38/50\n",
            "8/8 [==============================] - 7s 836ms/step - loss: 1.8525 - accuracy: 0.2782\n",
            "Epoch 39/50\n",
            "8/8 [==============================] - 6s 714ms/step - loss: 1.8354 - accuracy: 0.2641\n",
            "Epoch 40/50\n",
            "8/8 [==============================] - 8s 873ms/step - loss: 1.8385 - accuracy: 0.2661\n",
            "Epoch 41/50\n",
            "8/8 [==============================] - 7s 908ms/step - loss: 1.8155 - accuracy: 0.2863\n",
            "Epoch 42/50\n",
            "8/8 [==============================] - 7s 724ms/step - loss: 1.7897 - accuracy: 0.2923\n",
            "Epoch 43/50\n",
            "8/8 [==============================] - 8s 961ms/step - loss: 1.7754 - accuracy: 0.2984\n",
            "Epoch 44/50\n",
            "8/8 [==============================] - 7s 834ms/step - loss: 1.7971 - accuracy: 0.3065\n",
            "Epoch 45/50\n",
            "8/8 [==============================] - 7s 769ms/step - loss: 1.7828 - accuracy: 0.2944\n",
            "Epoch 46/50\n",
            "8/8 [==============================] - 8s 995ms/step - loss: 1.7872 - accuracy: 0.3125\n",
            "Epoch 47/50\n",
            "8/8 [==============================] - 6s 709ms/step - loss: 1.7440 - accuracy: 0.3306\n",
            "Epoch 48/50\n",
            "8/8 [==============================] - 8s 902ms/step - loss: 1.7685 - accuracy: 0.2964\n",
            "Epoch 49/50\n",
            "8/8 [==============================] - 6s 749ms/step - loss: 1.7477 - accuracy: 0.3246\n",
            "Epoch 50/50\n",
            "8/8 [==============================] - 9s 1s/step - loss: 1.7107 - accuracy: 0.3448\n"
          ]
        }
      ]
    },
    {
      "cell_type": "markdown",
      "source": [
        "Prediction"
      ],
      "metadata": {
        "id": "sb4oQXZSSdfP"
      }
    },
    {
      "cell_type": "code",
      "source": [
        "predictions = emotion_model.predict(validation_generator)"
      ],
      "metadata": {
        "colab": {
          "base_uri": "https://localhost:8080/"
        },
        "id": "Cvl-vt-hSfBL",
        "outputId": "ab54083a-9c9e-4235-ca8c-47693f0015d1"
      },
      "execution_count": 15,
      "outputs": [
        {
          "output_type": "stream",
          "name": "stdout",
          "text": [
            "4/4 [==============================] - 1s 192ms/step\n"
          ]
        }
      ]
    },
    {
      "cell_type": "code",
      "source": [
        "emotion_dict = {0: \"Angry\", 1: \"Disgusted\", 2: \"Fearful\", 3: \"Happy\", 4: \"Neutral\", 5: \"Sad\", 6: \"Surprised\"}"
      ],
      "metadata": {
        "id": "ZXNgSu7MStX9"
      },
      "execution_count": 16,
      "outputs": []
    },
    {
      "cell_type": "code",
      "source": [
        "# see predictions\n",
        "for result in predictions:\n",
        "     max_index = int(np.argmax(result))\n",
        "     print(emotion_dict[max_index])"
      ],
      "metadata": {
        "colab": {
          "base_uri": "https://localhost:8080/"
        },
        "id": "T_d7h5JLSyGa",
        "outputId": "d07ca407-a127-447c-d40f-133a0feef6d2"
      },
      "execution_count": 17,
      "outputs": [
        {
          "output_type": "stream",
          "name": "stdout",
          "text": [
            "Angry\n",
            "Surprised\n",
            "Neutral\n",
            "Sad\n",
            "Disgusted\n",
            "Surprised\n",
            "Happy\n",
            "Happy\n",
            "Sad\n",
            "Sad\n",
            "Sad\n",
            "Surprised\n",
            "Surprised\n",
            "Angry\n",
            "Happy\n",
            "Surprised\n",
            "Surprised\n",
            "Surprised\n",
            "Surprised\n",
            "Disgusted\n",
            "Disgusted\n",
            "Surprised\n",
            "Sad\n",
            "Happy\n",
            "Happy\n",
            "Angry\n",
            "Surprised\n",
            "Sad\n",
            "Sad\n",
            "Sad\n",
            "Angry\n",
            "Sad\n",
            "Angry\n",
            "Angry\n",
            "Angry\n",
            "Disgusted\n",
            "Sad\n",
            "Neutral\n",
            "Happy\n",
            "Angry\n",
            "Happy\n",
            "Angry\n",
            "Angry\n",
            "Angry\n",
            "Angry\n",
            "Neutral\n",
            "Sad\n",
            "Surprised\n",
            "Neutral\n",
            "Sad\n",
            "Disgusted\n",
            "Sad\n",
            "Angry\n",
            "Disgusted\n",
            "Happy\n",
            "Neutral\n",
            "Sad\n",
            "Happy\n",
            "Surprised\n",
            "Sad\n",
            "Sad\n",
            "Happy\n",
            "Neutral\n",
            "Sad\n",
            "Surprised\n",
            "Neutral\n",
            "Surprised\n",
            "Happy\n",
            "Sad\n",
            "Sad\n",
            "Sad\n",
            "Happy\n",
            "Sad\n",
            "Sad\n",
            "Neutral\n",
            "Happy\n",
            "Happy\n",
            "Disgusted\n",
            "Happy\n",
            "Sad\n",
            "Angry\n",
            "Sad\n",
            "Neutral\n",
            "Happy\n",
            "Surprised\n",
            "Sad\n",
            "Surprised\n",
            "Sad\n",
            "Happy\n",
            "Surprised\n",
            "Surprised\n",
            "Happy\n",
            "Surprised\n",
            "Happy\n",
            "Sad\n",
            "Surprised\n",
            "Happy\n",
            "Happy\n",
            "Disgusted\n",
            "Surprised\n",
            "Angry\n",
            "Surprised\n",
            "Surprised\n",
            "Sad\n",
            "Disgusted\n",
            "Disgusted\n",
            "Angry\n",
            "Angry\n",
            "Happy\n",
            "Surprised\n",
            "Surprised\n",
            "Fearful\n",
            "Happy\n",
            "Disgusted\n",
            "Happy\n",
            "Happy\n",
            "Sad\n",
            "Fearful\n",
            "Surprised\n",
            "Sad\n",
            "Surprised\n",
            "Sad\n",
            "Sad\n",
            "Surprised\n",
            "Surprised\n",
            "Surprised\n",
            "Angry\n",
            "Surprised\n",
            "Surprised\n",
            "Surprised\n",
            "Neutral\n",
            "Disgusted\n",
            "Sad\n",
            "Happy\n",
            "Sad\n",
            "Surprised\n",
            "Disgusted\n",
            "Happy\n",
            "Happy\n",
            "Disgusted\n",
            "Angry\n",
            "Surprised\n",
            "Neutral\n",
            "Surprised\n",
            "Sad\n",
            "Happy\n",
            "Neutral\n",
            "Disgusted\n",
            "Angry\n",
            "Sad\n",
            "Sad\n",
            "Angry\n",
            "Surprised\n",
            "Happy\n",
            "Sad\n",
            "Angry\n",
            "Surprised\n",
            "Surprised\n",
            "Neutral\n",
            "Neutral\n",
            "Angry\n",
            "Angry\n",
            "Surprised\n",
            "Surprised\n",
            "Disgusted\n",
            "Happy\n",
            "Happy\n",
            "Disgusted\n",
            "Happy\n",
            "Surprised\n",
            "Disgusted\n",
            "Neutral\n",
            "Happy\n",
            "Disgusted\n",
            "Sad\n",
            "Disgusted\n",
            "Happy\n",
            "Disgusted\n",
            "Happy\n",
            "Disgusted\n",
            "Disgusted\n",
            "Surprised\n",
            "Surprised\n",
            "Neutral\n",
            "Disgusted\n",
            "Sad\n",
            "Surprised\n",
            "Surprised\n",
            "Surprised\n",
            "Surprised\n",
            "Sad\n",
            "Happy\n",
            "Disgusted\n",
            "Surprised\n",
            "Sad\n",
            "Surprised\n",
            "Surprised\n",
            "Happy\n",
            "Disgusted\n",
            "Disgusted\n",
            "Surprised\n",
            "Sad\n",
            "Surprised\n",
            "Sad\n",
            "Sad\n",
            "Surprised\n",
            "Disgusted\n"
          ]
        }
      ]
    },
    {
      "cell_type": "markdown",
      "source": [
        "Confusion Matrix"
      ],
      "metadata": {
        "id": "p3wGwtmjTAlk"
      }
    },
    {
      "cell_type": "code",
      "source": [
        "c_matrix = confusion_matrix(validation_generator.classes, predictions.argmax(axis=1))\n",
        "print(c_matrix)"
      ],
      "metadata": {
        "colab": {
          "base_uri": "https://localhost:8080/"
        },
        "id": "I4QNQhgITEU9",
        "outputId": "6e530e7c-0353-4800-c3f4-1089ea7a4ea2"
      },
      "execution_count": 18,
      "outputs": [
        {
          "output_type": "stream",
          "name": "stdout",
          "text": [
            "[[ 3  3  0  5  1  8 10]\n",
            " [10  3  0  4  4  7  2]\n",
            " [ 1  1  0  8  4 11  5]\n",
            " [ 3  4  1  8  0  3  8]\n",
            " [ 2  3  1  4  3  6 11]\n",
            " [ 5  6  0  6  3  4  6]\n",
            " [ 0  8  0  3  1  6 12]]\n"
          ]
        }
      ]
    },
    {
      "cell_type": "code",
      "source": [
        "cm_display = ConfusionMatrixDisplay(confusion_matrix=c_matrix, display_labels=emotion_dict)\n",
        "cm_display.plot(cmap=plt.cm.Blues)\n",
        "plt.show()"
      ],
      "metadata": {
        "id": "-kyUW8aMz_NA",
        "outputId": "afd7bd42-9491-449c-8008-86bf2451aa75",
        "colab": {
          "base_uri": "https://localhost:8080/",
          "height": 455
        }
      },
      "execution_count": 19,
      "outputs": [
        {
          "output_type": "display_data",
          "data": {
            "text/plain": [
              "<Figure size 640x480 with 2 Axes>"
            ],
            "image/png": "[encoded data removed]"
          },
          "metadata": {}
        }
      ]
    },
    {
      "cell_type": "markdown",
      "source": [
        "Classification Report"
      ],
      "metadata": {
        "id": "9mx54AfpTTR8"
      }
    },
    {
      "cell_type": "code",
      "source": [
        "print(classification_report(validation_generator.classes, predictions.argmax(axis=1)))"
      ],
      "metadata": {
        "colab": {
          "base_uri": "https://localhost:8080/"
        },
        "id": "gHTd6xhrTVU9",
        "outputId": "ef45905f-7224-4d2d-96bd-0d2320c92ac1"
      },
      "execution_count": 20,
      "outputs": [
        {
          "output_type": "stream",
          "name": "stdout",
          "text": [
            "              precision    recall  f1-score   support\n",
            "\n",
            "           0       0.12      0.10      0.11        30\n",
            "           1       0.11      0.10      0.10        30\n",
            "           2       0.00      0.00      0.00        30\n",
            "           3       0.21      0.30      0.25        27\n",
            "           4       0.19      0.10      0.13        30\n",
            "           5       0.09      0.13      0.11        30\n",
            "           6       0.22      0.40      0.29        30\n",
            "\n",
            "    accuracy                           0.16       207\n",
            "   macro avg       0.13      0.16      0.14       207\n",
            "weighted avg       0.13      0.16      0.14       207\n",
            "\n"
          ]
        }
      ]
    },
    {
      "cell_type": "markdown",
      "source": [
        "Testing Image"
      ],
      "metadata": {
        "id": "8jUj67E0zbl5"
      }
    },
    {
      "cell_type": "code",
      "source": [
        "img = cv2.imread(\"/content/download.jpg\",cv2.IMREAD_GRAYSCALE)"
      ],
      "metadata": {
        "id": "v4OkAWeNwP2x"
      },
      "execution_count": 21,
      "outputs": []
    },
    {
      "cell_type": "code",
      "source": [
        "np_img = np.expand_dims(np.expand_dims(cv2.resize(img, (48, 48)), -1), 0)"
      ],
      "metadata": {
        "id": "j7Y9nVYGyPhD"
      },
      "execution_count": 22,
      "outputs": []
    },
    {
      "cell_type": "code",
      "source": [
        "outputCNN = emotion_model.predict(np_img)"
      ],
      "metadata": {
        "colab": {
          "base_uri": "https://localhost:8080/"
        },
        "id": "9wCLYgBfxK06",
        "outputId": "f6a220b5-f142-4017-b3c9-98bdc5988b8d"
      },
      "execution_count": 23,
      "outputs": [
        {
          "output_type": "stream",
          "name": "stdout",
          "text": [
            "1/1 [==============================] - 0s 119ms/step\n"
          ]
        }
      ]
    },
    {
      "cell_type": "code",
      "source": [
        "max_index = int(np.argmax(outputCNN))\n",
        "print(emotion_dict[max_index])"
      ],
      "metadata": {
        "colab": {
          "base_uri": "https://localhost:8080/"
        },
        "id": "58kVjJSFzXau",
        "outputId": "fbe72f7e-c43a-4556-ff3c-f554dc76a15c"
      },
      "execution_count": 24,
      "outputs": [
        {
          "output_type": "stream",
          "name": "stdout",
          "text": [
            "Angry\n"
          ]
        }
      ]
    },
    {
      "cell_type": "markdown",
      "source": [
        "OpenCV Web cam Image Capture"
      ],
      "metadata": {
        "id": "rDo6SBWo3guU"
      }
    },
    {
      "cell_type": "code",
      "source": [
        "# import dependencies\n",
        "from IPython.display import display, Javascript, Image\n",
        "from google.colab.output import eval_js\n",
        "from base64 import b64decode, b64encode\n",
        "import PIL\n",
        "import io\n",
        "import html\n",
        "import time"
      ],
      "metadata": {
        "id": "zdKtEkPVLGoz"
      },
      "execution_count": 25,
      "outputs": []
    },
    {
      "cell_type": "code",
      "source": [
        "# function to convert the JavaScript object into an OpenCV image\n",
        "def js_to_image(js_reply):\n",
        "  \"\"\"\n",
        "  Params:\n",
        "          js_reply: JavaScript object containing image from webcam\n",
        "  Returns:\n",
        "          img: OpenCV BGR image\n",
        "  \"\"\"\n",
        "  # decode base64 image\n",
        "  image_bytes = b64decode(js_reply.split(',')[1])\n",
        "  # convert bytes to numpy array\n",
        "  jpg_as_np = np.frombuffer(image_bytes, dtype=np.uint8)\n",
        "  # decode numpy array into OpenCV BGR image\n",
        "  img = cv2.imdecode(jpg_as_np, flags=1)\n",
        "\n",
        "  return img\n",
        "\n",
        "# function to convert OpenCV Rectangle bounding box image into base64 byte string to be overlayed on video stream\n",
        "def bbox_to_bytes(bbox_array):\n",
        "  \"\"\"\n",
        "  Params:\n",
        "          bbox_array: Numpy array (pixels) containing rectangle to overlay on video stream.\n",
        "  Returns:\n",
        "        bytes: Base64 image byte string\n",
        "  \"\"\"\n",
        "  # convert array into PIL image\n",
        "  bbox_PIL = PIL.Image.fromarray(bbox_array, 'RGBA')\n",
        "  iobuf = io.BytesIO()\n",
        "  # format bbox into png for return\n",
        "  bbox_PIL.save(iobuf, format='png')\n",
        "  # format return string\n",
        "  bbox_bytes = 'data:image/png;base64,{}'.format((str(b64encode(iobuf.getvalue()), 'utf-8')))\n",
        "\n",
        "  return bbox_bytes"
      ],
      "metadata": {
        "id": "6c_OG3yiLUFH"
      },
      "execution_count": 26,
      "outputs": []
    },
    {
      "cell_type": "code",
      "source": [
        "# initialize the Haar Cascade face detection model\n",
        "face_cascade = cv2.CascadeClassifier(cv2.samples.findFile(cv2.data.haarcascades + 'haarcascade_frontalface_default.xml'))"
      ],
      "metadata": {
        "id": "57qcQIgqLYc7"
      },
      "execution_count": 27,
      "outputs": []
    },
    {
      "cell_type": "code",
      "source": [
        "def take_photo(filename='photo.jpg', quality=0.8):\n",
        "  js = Javascript('''\n",
        "    async function takePhoto(quality) {\n",
        "      const div = document.createElement('div');\n",
        "      const capture = document.createElement('button');\n",
        "      capture.textContent = 'Capture';\n",
        "      div.appendChild(capture);\n",
        "\n",
        "      const video = document.createElement('video');\n",
        "      video.style.display = 'block';\n",
        "      const stream = await navigator.mediaDevices.getUserMedia({video: true});\n",
        "\n",
        "      document.body.appendChild(div);\n",
        "      div.appendChild(video);\n",
        "      video.srcObject = stream;\n",
        "      await video.play();\n",
        "\n",
        "      // Resize the output to fit the video element.\n",
        "      google.colab.output.setIframeHeight(document.documentElement.scrollHeight, true);\n",
        "\n",
        "      // Wait for Capture to be clicked.\n",
        "      await new Promise((resolve) => capture.onclick = resolve);\n",
        "\n",
        "      const canvas = document.createElement('canvas');\n",
        "      canvas.width = video.videoWidth;\n",
        "      canvas.height = video.videoHeight;\n",
        "      canvas.getContext('2d').drawImage(video, 0, 0);\n",
        "      stream.getVideoTracks()[0].stop();\n",
        "      div.remove();\n",
        "      return canvas.toDataURL('image/jpeg', quality);\n",
        "    }\n",
        "    ''')\n",
        "  display(js)\n",
        "\n",
        "    # get photo data\n",
        "  data = eval_js('takePhoto({})'.format(quality))\n",
        "  # get OpenCV format image\n",
        "  img = js_to_image(data)\n",
        "  # grayscale img\n",
        "  gray = cv2.cvtColor(img, cv2.COLOR_RGB2GRAY)\n",
        "  print(gray.shape)\n",
        "  # get face bounding box coordinates using Haar Cascade\n",
        "  faces = face_cascade.detectMultiScale(gray)\n",
        "  # draw face bounding box on image\n",
        "  for (x, y, w, h) in faces:\n",
        "        cv2.rectangle(img, (x, y-50), (x+w, y+h+10), (0, 255, 0), 4)\n",
        "        roi_gray_frame = gray[y:y + h, x:x + w]\n",
        "        cropped_img = np.expand_dims(np.expand_dims(cv2.resize(roi_gray_frame, (48, 48)), -1), 0)\n",
        "\n",
        "        # predict the emotions\n",
        "        emotion_prediction = emotion_model.predict(cropped_img)\n",
        "        maxindex = int(np.argmax(emotion_prediction))\n",
        "        cv2.putText(img, emotion_dict[maxindex], (x+5, y-20), cv2.FONT_HERSHEY_SIMPLEX, 1, (255, 0, 0), 2, cv2.LINE_AA)\n",
        "\n",
        "  # save image\n",
        "  cv2.imwrite(filename, img)\n",
        "\n",
        "  return filename"
      ],
      "metadata": {
        "id": "rh76YvD7Lhnr"
      },
      "execution_count": 30,
      "outputs": []
    },
    {
      "cell_type": "code",
      "source": [
        "try:\n",
        "  filename = take_photo('photo.jpg')\n",
        "  print('Saved to {}'.format(filename))\n",
        "\n",
        "  # Show the image which was just taken.\n",
        "  display(Image(filename))\n",
        "except Exception as err:\n",
        "  # Errors will be thrown if the user does not have a webcam or if they do not\n",
        "  # grant the page permission to access it.\n",
        "  print(str(err))"
      ],
      "metadata": {
        "colab": {
          "base_uri": "https://localhost:8080/",
          "height": 549
        },
        "id": "TSY1gPyqLlq7",
        "outputId": "220b8e05-5806-43ea-f28b-e59852cf29cf"
      },
      "execution_count": 62,
      "outputs": [
        {
          "output_type": "display_data",
          "data": {
            "text/plain": [
              "<IPython.core.display.Javascript object>"
            ],
            "application/javascript": [
              "\n",
              "    async function takePhoto(quality) {\n",
              "      const div = document.createElement('div');\n",
              "      const capture = document.createElement('button');\n",
              "      capture.textContent = 'Capture';\n",
              "      div.appendChild(capture);\n",
              "\n",
              "      const video = document.createElement('video');\n",
              "      video.style.display = 'block';\n",
              "      const stream = await navigator.mediaDevices.getUserMedia({video: true});\n",
              "\n",
              "      document.body.appendChild(div);\n",
              "      div.appendChild(video);\n",
              "      video.srcObject = stream;\n",
              "      await video.play();\n",
              "\n",
              "      // Resize the output to fit the video element.\n",
              "      google.colab.output.setIframeHeight(document.documentElement.scrollHeight, true);\n",
              "\n",
              "      // Wait for Capture to be clicked.\n",
              "      await new Promise((resolve) => capture.onclick = resolve);\n",
              "\n",
              "      const canvas = document.createElement('canvas');\n",
              "      canvas.width = video.videoWidth;\n",
              "      canvas.height = video.videoHeight;\n",
              "      canvas.getContext('2d').drawImage(video, 0, 0);\n",
              "      stream.getVideoTracks()[0].stop();\n",
              "      div.remove();\n",
              "      return canvas.toDataURL('image/jpeg', quality);\n",
              "    }\n",
              "    "
            ]
          },
          "metadata": {}
        },
        {
          "output_type": "stream",
          "name": "stdout",
          "text": [
            "(480, 640)\n",
            "1/1 [==============================] - 0s 33ms/step\n",
            "Saved to photo.jpg\n"
          ]
        },
        {
          "output_type": "display_data",
          "data": {
            "image/jpeg": "[encoded data removed]",
            "text/plain": [
              "<IPython.core.display.Image object>"
            ]
          },
          "metadata": {}
        }
      ]
    },
    {
      "cell_type": "markdown",
      "source": [
        "OpenCV Web Cam Video Capture"
      ],
      "metadata": {
        "id": "5E37zvc-SXp9"
      }
    },
    {
      "cell_type": "code",
      "source": [
        "# JavaScript to properly create our live video stream using our webcam as input\n",
        "def video_stream():\n",
        "  js = Javascript('''\n",
        "    var video;\n",
        "    var div = null;\n",
        "    var stream;\n",
        "    var captureCanvas;\n",
        "    var imgElement;\n",
        "    var labelElement;\n",
        "\n",
        "    var pendingResolve = null;\n",
        "    var shutdown = false;\n",
        "\n",
        "    function removeDom() {\n",
        "       stream.getVideoTracks()[0].stop();\n",
        "       video.remove();\n",
        "       div.remove();\n",
        "       video = null;\n",
        "       div = null;\n",
        "       stream = null;\n",
        "       imgElement = null;\n",
        "       captureCanvas = null;\n",
        "       labelElement = null;\n",
        "    }\n",
        "\n",
        "    function onAnimationFrame() {\n",
        "      if (!shutdown) {\n",
        "        window.requestAnimationFrame(onAnimationFrame);\n",
        "      }\n",
        "      if (pendingResolve) {\n",
        "        var result = \"\";\n",
        "        if (!shutdown) {\n",
        "          captureCanvas.getContext('2d').drawImage(video, 0, 0, 640, 480);\n",
        "          result = captureCanvas.toDataURL('image/jpeg', 0.8)\n",
        "        }\n",
        "        var lp = pendingResolve;\n",
        "        pendingResolve = null;\n",
        "        lp(result);\n",
        "      }\n",
        "    }\n",
        "\n",
        "    async function createDom() {\n",
        "      if (div !== null) {\n",
        "        return stream;\n",
        "      }\n",
        "\n",
        "      div = document.createElement('div');\n",
        "      div.style.border = '2px solid black';\n",
        "      div.style.padding = '3px';\n",
        "      div.style.width = '100%';\n",
        "      div.style.maxWidth = '600px';\n",
        "      document.body.appendChild(div);\n",
        "\n",
        "      const modelOut = document.createElement('div');\n",
        "      modelOut.innerHTML = \"<span>Status:</span>\";\n",
        "      labelElement = document.createElement('span');\n",
        "      labelElement.innerText = 'No data';\n",
        "      labelElement.style.fontWeight = 'bold';\n",
        "      modelOut.appendChild(labelElement);\n",
        "      div.appendChild(modelOut);\n",
        "\n",
        "      video = document.createElement('video');\n",
        "      video.style.display = 'block';\n",
        "      video.width = div.clientWidth - 6;\n",
        "      video.setAttribute('playsinline', '');\n",
        "      video.onclick = () => { shutdown = true; };\n",
        "      stream = await navigator.mediaDevices.getUserMedia(\n",
        "          {video: { facingMode: \"environment\"}});\n",
        "      div.appendChild(video);\n",
        "\n",
        "      imgElement = document.createElement('img');\n",
        "      imgElement.style.position = 'absolute';\n",
        "      imgElement.style.zIndex = 1;\n",
        "      imgElement.onclick = () => { shutdown = true; };\n",
        "      div.appendChild(imgElement);\n",
        "\n",
        "      const instruction = document.createElement('div');\n",
        "      instruction.innerHTML =\n",
        "          '<span style=\"color: red; font-weight: bold;\">' +\n",
        "          'When finished, click here or on the video to stop this demo</span>';\n",
        "      div.appendChild(instruction);\n",
        "      instruction.onclick = () => { shutdown = true; };\n",
        "\n",
        "      video.srcObject = stream;\n",
        "      await video.play();\n",
        "\n",
        "      captureCanvas = document.createElement('canvas');\n",
        "      captureCanvas.width = 640; //video.videoWidth;\n",
        "      captureCanvas.height = 480; //video.videoHeight;\n",
        "      window.requestAnimationFrame(onAnimationFrame);\n",
        "\n",
        "      return stream;\n",
        "    }\n",
        "    async function stream_frame(label, imgData) {\n",
        "      if (shutdown) {\n",
        "        removeDom();\n",
        "        shutdown = false;\n",
        "        return '';\n",
        "      }\n",
        "\n",
        "      var preCreate = Date.now();\n",
        "      stream = await createDom();\n",
        "\n",
        "      var preShow = Date.now();\n",
        "      if (label != \"\") {\n",
        "        labelElement.innerHTML = label;\n",
        "      }\n",
        "\n",
        "      if (imgData != \"\") {\n",
        "        var videoRect = video.getClientRects()[0];\n",
        "        imgElement.style.top = videoRect.top + \"px\";\n",
        "        imgElement.style.left = videoRect.left + \"px\";\n",
        "        imgElement.style.width = videoRect.width + \"px\";\n",
        "        imgElement.style.height = videoRect.height + \"px\";\n",
        "        imgElement.src = imgData;\n",
        "      }\n",
        "\n",
        "      var preCapture = Date.now();\n",
        "      var result = await new Promise(function(resolve, reject) {\n",
        "        pendingResolve = resolve;\n",
        "      });\n",
        "      shutdown = false;\n",
        "\n",
        "      return {'create': preShow - preCreate,\n",
        "              'show': preCapture - preShow,\n",
        "              'capture': Date.now() - preCapture,\n",
        "              'img': result};\n",
        "    }\n",
        "    ''')\n",
        "\n",
        "  display(js)\n",
        "\n",
        "def video_frame(label, bbox):\n",
        "  data = eval_js('stream_frame(\"{}\", \"{}\")'.format(label, bbox))\n",
        "  return data"
      ],
      "metadata": {
        "id": "1jKsLf07SjNm"
      },
      "execution_count": 36,
      "outputs": []
    },
    {
      "cell_type": "code",
      "source": [
        "# start streaming video from webcam\n",
        "video_stream()\n",
        "# label for video\n",
        "label_html = 'Capturing...'\n",
        "# initialze bounding box to empty\n",
        "bbox = ''\n",
        "count = 0\n",
        "while True:\n",
        "    js_reply = video_frame(label_html, bbox)\n",
        "    if not js_reply:\n",
        "        break\n",
        "\n",
        "    # convert JS response to OpenCV Image\n",
        "    img = js_to_image(js_reply[\"img\"])\n",
        "\n",
        "    # create transparent overlay for bounding box\n",
        "    bbox_array = np.zeros([480,640,4], dtype=np.uint8)\n",
        "\n",
        "    # grayscale image for face detection\n",
        "    gray = cv2.cvtColor(img, cv2.COLOR_RGB2GRAY)\n",
        "\n",
        "    # get face region coordinates\n",
        "    faces = face_cascade.detectMultiScale(gray)\n",
        "    for (x, y, w, h) in faces:\n",
        "        bbox_array = cv2.rectangle(bbox_array, (x, y-50), (x+w, y+h+10), (0, 255, 0), 4)\n",
        "        roi_gray_frame = gray[y:y + h, x:x + w]\n",
        "        cropped_img = np.expand_dims(np.expand_dims(cv2.resize(roi_gray_frame, (48, 48)), -1), 0)\n",
        "\n",
        "        # predict the emotions\n",
        "        emotion_prediction = emotion_model.predict(cropped_img)\n",
        "        maxindex = int(np.argmax(emotion_prediction))\n",
        "        cv2.putText(bbox_array, emotion_dict[maxindex], (x+5, y-20), cv2.FONT_HERSHEY_SIMPLEX, 1, (255, 0, 0), 2, cv2.LINE_AA)\n",
        "\n",
        "    bbox_array[:,:,3] = (bbox_array.max(axis = 2) > 0 ).astype(int) * 255\n",
        "    # convert overlay of bbox into bytes\n",
        "    bbox_bytes = bbox_to_bytes(bbox_array)\n",
        "    # update bbox so next frame gets new overlay\n",
        "    bbox = bbox_bytes"
      ],
      "metadata": {
        "colab": {
          "base_uri": "https://localhost:8080/",
          "height": 52
        },
        "id": "DOlRBzZyU_-v",
        "outputId": "4d044246-5f0c-4e69-b99e-67c079e7ae36"
      },
      "execution_count": 42,
      "outputs": [
        {
          "output_type": "display_data",
          "data": {
            "text/plain": [
              "<IPython.core.display.Javascript object>"
            ],
            "application/javascript": [
              "\n",
              "    var video;\n",
              "    var div = null;\n",
              "    var stream;\n",
              "    var captureCanvas;\n",
              "    var imgElement;\n",
              "    var labelElement;\n",
              "    \n",
              "    var pendingResolve = null;\n",
              "    var shutdown = false;\n",
              "    \n",
              "    function removeDom() {\n",
              "       stream.getVideoTracks()[0].stop();\n",
              "       video.remove();\n",
              "       div.remove();\n",
              "       video = null;\n",
              "       div = null;\n",
              "       stream = null;\n",
              "       imgElement = null;\n",
              "       captureCanvas = null;\n",
              "       labelElement = null;\n",
              "    }\n",
              "    \n",
              "    function onAnimationFrame() {\n",
              "      if (!shutdown) {\n",
              "        window.requestAnimationFrame(onAnimationFrame);\n",
              "      }\n",
              "      if (pendingResolve) {\n",
              "        var result = \"\";\n",
              "        if (!shutdown) {\n",
              "          captureCanvas.getContext('2d').drawImage(video, 0, 0, 640, 480);\n",
              "          result = captureCanvas.toDataURL('image/jpeg', 0.8)\n",
              "        }\n",
              "        var lp = pendingResolve;\n",
              "        pendingResolve = null;\n",
              "        lp(result);\n",
              "      }\n",
              "    }\n",
              "    \n",
              "    async function createDom() {\n",
              "      if (div !== null) {\n",
              "        return stream;\n",
              "      }\n",
              "\n",
              "      div = document.createElement('div');\n",
              "      div.style.border = '2px solid black';\n",
              "      div.style.padding = '3px';\n",
              "      div.style.width = '100%';\n",
              "      div.style.maxWidth = '600px';\n",
              "      document.body.appendChild(div);\n",
              "      \n",
              "      const modelOut = document.createElement('div');\n",
              "      modelOut.innerHTML = \"<span>Status:</span>\";\n",
              "      labelElement = document.createElement('span');\n",
              "      labelElement.innerText = 'No data';\n",
              "      labelElement.style.fontWeight = 'bold';\n",
              "      modelOut.appendChild(labelElement);\n",
              "      div.appendChild(modelOut);\n",
              "           \n",
              "      video = document.createElement('video');\n",
              "      video.style.display = 'block';\n",
              "      video.width = div.clientWidth - 6;\n",
              "      video.setAttribute('playsinline', '');\n",
              "      video.onclick = () => { shutdown = true; };\n",
              "      stream = await navigator.mediaDevices.getUserMedia(\n",
              "          {video: { facingMode: \"environment\"}});\n",
              "      div.appendChild(video);\n",
              "\n",
              "      imgElement = document.createElement('img');\n",
              "      imgElement.style.position = 'absolute';\n",
              "      imgElement.style.zIndex = 1;\n",
              "      imgElement.onclick = () => { shutdown = true; };\n",
              "      div.appendChild(imgElement);\n",
              "      \n",
              "      const instruction = document.createElement('div');\n",
              "      instruction.innerHTML = \n",
              "          '<span style=\"color: red; font-weight: bold;\">' +\n",
              "          'When finished, click here or on the video to stop this demo</span>';\n",
              "      div.appendChild(instruction);\n",
              "      instruction.onclick = () => { shutdown = true; };\n",
              "      \n",
              "      video.srcObject = stream;\n",
              "      await video.play();\n",
              "\n",
              "      captureCanvas = document.createElement('canvas');\n",
              "      captureCanvas.width = 640; //video.videoWidth;\n",
              "      captureCanvas.height = 480; //video.videoHeight;\n",
              "      window.requestAnimationFrame(onAnimationFrame);\n",
              "      \n",
              "      return stream;\n",
              "    }\n",
              "    async function stream_frame(label, imgData) {\n",
              "      if (shutdown) {\n",
              "        removeDom();\n",
              "        shutdown = false;\n",
              "        return '';\n",
              "      }\n",
              "\n",
              "      var preCreate = Date.now();\n",
              "      stream = await createDom();\n",
              "      \n",
              "      var preShow = Date.now();\n",
              "      if (label != \"\") {\n",
              "        labelElement.innerHTML = label;\n",
              "      }\n",
              "            \n",
              "      if (imgData != \"\") {\n",
              "        var videoRect = video.getClientRects()[0];\n",
              "        imgElement.style.top = videoRect.top + \"px\";\n",
              "        imgElement.style.left = videoRect.left + \"px\";\n",
              "        imgElement.style.width = videoRect.width + \"px\";\n",
              "        imgElement.style.height = videoRect.height + \"px\";\n",
              "        imgElement.src = imgData;\n",
              "      }\n",
              "      \n",
              "      var preCapture = Date.now();\n",
              "      var result = await new Promise(function(resolve, reject) {\n",
              "        pendingResolve = resolve;\n",
              "      });\n",
              "      shutdown = false;\n",
              "      \n",
              "      return {'create': preShow - preCreate, \n",
              "              'show': preCapture - preShow, \n",
              "              'capture': Date.now() - preCapture,\n",
              "              'img': result};\n",
              "    }\n",
              "    "
            ]
          },
          "metadata": {}
        },
        {
          "output_type": "stream",
          "name": "stdout",
          "text": [
            "1/1 [==============================] - 0s 25ms/step\n",
            "1/1 [==============================] - 0s 30ms/step\n"
          ]
        }
      ]
    }
  ]
}